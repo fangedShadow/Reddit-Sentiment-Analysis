{
 "cells": [
  {
   "cell_type": "code",
   "execution_count": 1,
   "id": "269ac527",
   "metadata": {},
   "outputs": [
    {
     "name": "stdout",
     "output_type": "stream",
     "text": [
      "Requirement already satisfied: vaderSentiment in c:\\users\\bhavp\\anaconda3\\lib\\site-packages (3.3.2)Note: you may need to restart the kernel to use updated packages.\n",
      "\n",
      "Requirement already satisfied: requests in c:\\users\\bhavp\\anaconda3\\lib\\site-packages (from vaderSentiment) (2.31.0)\n",
      "Requirement already satisfied: charset-normalizer<4,>=2 in c:\\users\\bhavp\\anaconda3\\lib\\site-packages (from requests->vaderSentiment) (2.0.4)\n",
      "Requirement already satisfied: idna<4,>=2.5 in c:\\users\\bhavp\\anaconda3\\lib\\site-packages (from requests->vaderSentiment) (3.4)\n",
      "Requirement already satisfied: urllib3<3,>=1.21.1 in c:\\users\\bhavp\\anaconda3\\lib\\site-packages (from requests->vaderSentiment) (1.26.16)\n",
      "Requirement already satisfied: certifi>=2017.4.17 in c:\\users\\bhavp\\anaconda3\\lib\\site-packages (from requests->vaderSentiment) (2023.11.17)\n"
     ]
    }
   ],
   "source": [
    "pip install vaderSentiment"
   ]
  },
  {
   "cell_type": "code",
   "execution_count": 1,
   "id": "66784fef",
   "metadata": {},
   "outputs": [
    {
     "name": "stderr",
     "output_type": "stream",
     "text": [
      "C:\\Users\\bhavp\\anaconda3\\Lib\\site-packages\\transformers\\utils\\generic.py:260: UserWarning: torch.utils._pytree._register_pytree_node is deprecated. Please use torch.utils._pytree.register_pytree_node instead.\n",
      "  torch.utils._pytree._register_pytree_node(\n"
     ]
    }
   ],
   "source": [
    "import csv\n",
    "from collections import Counter\n",
    "from vaderSentiment.vaderSentiment import SentimentIntensityAnalyzer\n",
    "import json\n",
    "from transformers import pipeline\n"
   ]
  },
  {
   "cell_type": "code",
   "execution_count": 2,
   "id": "9a4d65f1",
   "metadata": {},
   "outputs": [
    {
     "name": "stderr",
     "output_type": "stream",
     "text": [
      "No model was supplied, defaulted to facebook/bart-large-mnli and revision c626438 (https://huggingface.co/facebook/bart-large-mnli).\n",
      "Using a pipeline without specifying a model name and revision in production is not recommended.\n"
     ]
    }
   ],
   "source": [
    "classifier = pipeline(\"zero-shot-classification\")"
   ]
  },
  {
   "cell_type": "code",
   "execution_count": 3,
   "id": "112d7f64",
   "metadata": {},
   "outputs": [],
   "source": [
    "def analyze_sentiment(comment):\n",
    "    analyzer = SentimentIntensityAnalyzer()\n",
    "    vs = analyzer.polarity_scores(comment)\n",
    "    compound_score = vs['compound']\n",
    "    \n",
    "    if compound_score >= 0.5:\n",
    "        return 'Very Positive'\n",
    "    elif 0.1 <= compound_score < 0.5:\n",
    "        return 'Positive'\n",
    "    elif -0.1 <= compound_score < 0.1:\n",
    "        return 'Neutral'\n",
    "    elif -0.5 <= compound_score < -0.1:\n",
    "        return 'Negative'\n",
    "    elif compound_score < -0.5:\n",
    "        return 'Very Negative'\n"
   ]
  },
  {
   "cell_type": "code",
   "execution_count": 4,
   "id": "2478c60a",
   "metadata": {},
   "outputs": [],
   "source": [
    "def label_topic(post):\n",
    "    topics = [\"Healthcare\", \"Education\", \"Economy\", \"Trade\", \"Poverty\", \"Energy\",\n",
    "              \"Climate Change\", \"Environment\", \"Sustainability\", \"Water\", \"Food Security\",\n",
    "              \"Human Rights\", \"War and Conflict\", \"Peacekeeping\", \"Security\", \"Cybersecurity\",\n",
    "              \"Diplomacy\", \"Foreign Policy\", \"International Relations\", \"Global Governance\",\n",
    "              \"Development\", \"Humanitarian Aid\", \"Migration\", \"Refugees\", \"Demographics\",\n",
    "              \"Globalization\", \"Technology\", \"Innovation\", \"Artificial Intelligence\",\n",
    "              \"Space Exploration\", \"Oceans\", \"Arctic\", \"Antarctica\", \"Disarmament\",\n",
    "              \"Nuclear Weapons\", \"Non-Proliferation\", \"Chemical Weapons\", \"Biological Weapons\",\n",
    "              \"Public Health\", \"Pandemics\", \"HIV/AIDS\", \"Malaria\", \"Tuberculosis\",\n",
    "              \"Mental Health\", \"Maternal Health\", \"Child Health\", \"Non-Communicable Diseases\",\n",
    "              \"Universal Health Coverage\", \"United Nations\", \"World Health Organization\",\n",
    "              \"World Trade Organization\", \"International Monetary Fund\", \"World Bank\",\n",
    "              \"G20\", \"BRICS\", \"NATO\", \"European Union\", \"African Union\", \"Arab League\",\n",
    "              \"Association of Southeast Asian Nations\", \"Organization of American States\",\n",
    "              \"Xi Jinping\", \"Joe Biden\", \"Donald Trump\", \"Vladimir Putin\", \"Narendra Modi\",\n",
    "              \"Angela Merkel\", \"Emmanuel Macron\", \"Boris Johnson\", \"Jair Bolsonaro\"]\n",
    "    result = classifier(post['Title'], topics)\n",
    "    return [result['labels'][0]]"
   ]
  },
  {
   "cell_type": "code",
   "execution_count": 5,
   "id": "337f4faa",
   "metadata": {},
   "outputs": [],
   "source": [
    "with open('data.json', 'r', encoding='utf-8') as file:\n",
    "    data = json.load(file)\n",
    "\n",
    "total_comments = 0\n",
    "overall_sentiments = {'Very Positive': 0, 'Positive': 0, 'Neutral': 0, 'Negative': 0, 'Very Negative': 0}\n",
    "tag_counter = Counter()\n",
    "tag_sentiments = {}"
   ]
  },
  {
   "cell_type": "code",
   "execution_count": 6,
   "id": "eeac8585",
   "metadata": {},
   "outputs": [
    {
     "name": "stdout",
     "output_type": "stream",
     "text": [
      "Sentiment analysis results saved to 'sentiment_analysis_results.csv'\n"
     ]
    }
   ],
   "source": [
    "with open('sentiment_analysis_Vader.csv', mode='w', newline='') as file:\n",
    "    fieldnames = ['Post Number', 'Comment Count', 'Very Positive', 'Positive', 'Neutral', 'Negative', 'Very Negative', 'Topics']\n",
    "    writer = csv.DictWriter(file, fieldnames=fieldnames)\n",
    "    writer.writeheader()\n",
    "\n",
    "    for i, post in enumerate(data):\n",
    "        sentiments = {'Very Positive': 0, 'Positive': 0, 'Neutral': 0, 'Negative': 0, 'Very Negative': 0}\n",
    "        comments = post['Comments']\n",
    "        for comment in comments:\n",
    "            sentiment = analyze_sentiment(comment)\n",
    "            sentiments[sentiment] += 1\n",
    "            overall_sentiments[sentiment] += 1\n",
    "        total_comments += len(comments)\n",
    "        topics = label_topic(post)\n",
    "        for topic in topics:\n",
    "            tag_counter.update([topic])\n",
    "            if topic not in tag_sentiments:\n",
    "                tag_sentiments[topic] = {'Very Positive': 0, 'Positive': 0, 'Neutral': 0, 'Negative': 0, 'Very Negative': 0}\n",
    "            tag_sentiments[topic][sentiment] += 1\n",
    "\n",
    "        writer.writerow({\n",
    "            'Post Number': i + 1,\n",
    "            'Comment Count': len(comments),\n",
    "            'Very Positive': sentiments['Very Positive'],\n",
    "            'Positive': sentiments['Positive'],\n",
    "            'Neutral': sentiments['Neutral'],\n",
    "            'Negative': sentiments['Negative'],\n",
    "            'Very Negative': sentiments['Very Negative'],\n",
    "            'Topics': topics[0] if topics else ''\n",
    "        })\n",
    "\n",
    "    writer.writerow({\n",
    "        'Post Number': 'Total',\n",
    "        'Comment Count': total_comments,\n",
    "        'Very Positive': overall_sentiments['Very Positive'],\n",
    "        'Positive': overall_sentiments['Positive'],\n",
    "        'Neutral': overall_sentiments['Neutral'],\n",
    "        'Negative': overall_sentiments['Negative'],\n",
    "        'Very Negative': overall_sentiments['Very Negative'],\n",
    "        'Topics': ''\n",
    "    })\n",
    "\n",
    "print(\"Sentiment analysis results saved to 'sentiment_analysis_results.csv'\")"
   ]
  },
  {
   "cell_type": "code",
   "execution_count": 8,
   "id": "f1f6f4d7",
   "metadata": {},
   "outputs": [],
   "source": [
    "import pandas as pd\n",
    "import matplotlib.pyplot as plt\n",
    "import seaborn as sns"
   ]
  },
  {
   "cell_type": "code",
   "execution_count": 9,
   "id": "e8cba496",
   "metadata": {},
   "outputs": [
    {
     "data": {
      "text/html": [
       "<div>\n",
       "<style scoped>\n",
       "    .dataframe tbody tr th:only-of-type {\n",
       "        vertical-align: middle;\n",
       "    }\n",
       "\n",
       "    .dataframe tbody tr th {\n",
       "        vertical-align: top;\n",
       "    }\n",
       "\n",
       "    .dataframe thead th {\n",
       "        text-align: right;\n",
       "    }\n",
       "</style>\n",
       "<table border=\"1\" class=\"dataframe\">\n",
       "  <thead>\n",
       "    <tr style=\"text-align: right;\">\n",
       "      <th></th>\n",
       "      <th>Post Number</th>\n",
       "      <th>Comment Count</th>\n",
       "      <th>Very Positive</th>\n",
       "      <th>Positive</th>\n",
       "      <th>Neutral</th>\n",
       "      <th>Negative</th>\n",
       "      <th>Very Negative</th>\n",
       "      <th>Topics</th>\n",
       "    </tr>\n",
       "  </thead>\n",
       "  <tbody>\n",
       "    <tr>\n",
       "      <th>0</th>\n",
       "      <td>1</td>\n",
       "      <td>70</td>\n",
       "      <td>12</td>\n",
       "      <td>12</td>\n",
       "      <td>24</td>\n",
       "      <td>6</td>\n",
       "      <td>16</td>\n",
       "      <td>Joe Biden</td>\n",
       "    </tr>\n",
       "    <tr>\n",
       "      <th>1</th>\n",
       "      <td>2</td>\n",
       "      <td>78</td>\n",
       "      <td>16</td>\n",
       "      <td>12</td>\n",
       "      <td>35</td>\n",
       "      <td>9</td>\n",
       "      <td>6</td>\n",
       "      <td>Demographics</td>\n",
       "    </tr>\n",
       "    <tr>\n",
       "      <th>2</th>\n",
       "      <td>3</td>\n",
       "      <td>81</td>\n",
       "      <td>13</td>\n",
       "      <td>17</td>\n",
       "      <td>20</td>\n",
       "      <td>12</td>\n",
       "      <td>19</td>\n",
       "      <td>Donald Trump</td>\n",
       "    </tr>\n",
       "    <tr>\n",
       "      <th>3</th>\n",
       "      <td>4</td>\n",
       "      <td>86</td>\n",
       "      <td>14</td>\n",
       "      <td>20</td>\n",
       "      <td>36</td>\n",
       "      <td>6</td>\n",
       "      <td>10</td>\n",
       "      <td>Donald Trump</td>\n",
       "    </tr>\n",
       "    <tr>\n",
       "      <th>4</th>\n",
       "      <td>5</td>\n",
       "      <td>74</td>\n",
       "      <td>12</td>\n",
       "      <td>12</td>\n",
       "      <td>25</td>\n",
       "      <td>11</td>\n",
       "      <td>14</td>\n",
       "      <td>Joe Biden</td>\n",
       "    </tr>\n",
       "  </tbody>\n",
       "</table>\n",
       "</div>"
      ],
      "text/plain": [
       "  Post Number  Comment Count  Very Positive  Positive  Neutral  Negative  \\\n",
       "0           1             70             12        12       24         6   \n",
       "1           2             78             16        12       35         9   \n",
       "2           3             81             13        17       20        12   \n",
       "3           4             86             14        20       36         6   \n",
       "4           5             74             12        12       25        11   \n",
       "\n",
       "   Very Negative        Topics  \n",
       "0             16     Joe Biden  \n",
       "1              6  Demographics  \n",
       "2             19  Donald Trump  \n",
       "3             10  Donald Trump  \n",
       "4             14     Joe Biden  "
      ]
     },
     "execution_count": 9,
     "metadata": {},
     "output_type": "execute_result"
    }
   ],
   "source": [
    "\n",
    "data = pd.read_csv('sentiment_analysis_Vader.csv')\n",
    "data.head()"
   ]
  },
  {
   "cell_type": "code",
   "execution_count": 12,
   "id": "6fc8e48f",
   "metadata": {},
   "outputs": [],
   "source": [
    "data = data.iloc[:-1]"
   ]
  },
  {
   "cell_type": "code",
   "execution_count": 13,
   "id": "8bcd24cc",
   "metadata": {},
   "outputs": [
    {
     "data": {
      "text/plain": [
       "<Figure size 1400x800 with 0 Axes>"
      ]
     },
     "metadata": {},
     "output_type": "display_data"
    },
    {
     "data": {
      "image/png": "[encoded data removed]",
      "text/plain": [
       "<Figure size 1400x800 with 1 Axes>"
      ]
     },
     "metadata": {},
     "output_type": "display_data"
    }
   ],
   "source": [
    "# Selecting the relevant columns\n",
    "data = data[['Very Positive', 'Positive', 'Neutral', 'Negative', 'Very Negative']]\n",
    "\n",
    "# Plotting\n",
    "plt.figure(figsize=(14, 8))\n",
    "data.plot(kind='bar', stacked=True, figsize=(14, 8))\n",
    "plt.title('Sentiment Analysis for Each Post')\n",
    "plt.xlabel('Post Number')\n",
    "plt.ylabel('Sentiment Count')\n",
    "plt.legend(title='Sentiment')\n",
    "plt.grid(True)\n",
    "plt.xticks(range(0, 101, 5))  # Adjust the ticks based on your data\n",
    "plt.tight_layout()\n",
    "plt.show()"
   ]
  },
  {
   "cell_type": "code",
   "execution_count": null,
   "id": "0b1a524c",
   "metadata": {},
   "outputs": [],
   "source": []
  },
  {
   "cell_type": "code",
   "execution_count": null,
   "id": "ee0c213b",
   "metadata": {},
   "outputs": [],
   "source": []
  }
 ],
 "metadata": {
  "kernelspec": {
   "display_name": "Python 3 (ipykernel)",
   "language": "python",
   "name": "python3"
  },
  "language_info": {
   "codemirror_mode": {
    "name": "ipython",
    "version": 3
   },
   "file_extension": ".py",
   "mimetype": "text/x-python",
   "name": "python",
   "nbconvert_exporter": "python",
   "pygments_lexer": "ipython3",
   "version": "3.11.5"
  }
 },
 "nbformat": 4,
 "nbformat_minor": 5
}
